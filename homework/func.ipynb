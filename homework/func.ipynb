{
 "cells": [
  {
   "cell_type": "code",
   "execution_count": null,
   "id": "578c67c8",
   "metadata": {},
   "outputs": [],
   "source": [
    "Определить корни\n",
    "\n",
    "Найти интервалы, на которых функция возрастает\n",
    "\n",
    "Найти интервалы, на которых функция убывает\n",
    "\n",
    "Построить график\n",
    "\n",
    "Вычислить вершину\n",
    "\n",
    "Определить промежутки, на котором f > 0\n",
    "\n",
    "Определить промежутки, на котором f < 0"
   ]
  },
  {
   "cell_type": "code",
   "execution_count": 25,
   "id": "a56859e4",
   "metadata": {},
   "outputs": [
    {
     "name": "stdout",
     "output_type": "stream",
     "text": [
      "Корнями являются: [-8, -1, 1]\n"
     ]
    }
   ],
   "source": [
    "from sympy import*\n",
    "from sympy.abc import*\n",
    "f = x**3 + 8*x**2 - x - 8\n",
    "roots = list(solveset(f, x))\n",
    "print(f'Корнями являются: {roots}')"
   ]
  },
  {
   "cell_type": "code",
   "execution_count": 65,
   "id": "e4027097",
   "metadata": {},
   "outputs": [
    {
     "name": "stdout",
     "output_type": "stream",
     "text": [
      "Точки локальных минимумов и максимумов (Вершины): m1 = 0.06178425729081666, m2 = -5.3951175906241495\n"
     ]
    }
   ],
   "source": [
    "from sympy.calculus.util import *\n",
    "deriv = f.diff(x)\n",
    "mm = list(solveset(deriv))\n",
    "m1 = float(mm[0])\n",
    "m2 = float(mm[1])\n",
    "print(f'Точки локальных минимумов и максимумов (Вершины): m1 = {(m1)}, m2 = {m2}')"
   ]
  },
  {
   "cell_type": "code",
   "execution_count": 36,
   "id": "3f6d32dc",
   "metadata": {},
   "outputs": [
    {
     "name": "stdout",
     "output_type": "stream",
     "text": [
      "На интевале ]-oo ;  -5.3951175906241495[ функция возрастает\n",
      "На интевале ]-5.3951175906241495 ; 0.06178425729081666[ функция убываает\n",
      "На интевале ]0.06178425729081666 ; +oo[ функция возрастает\n"
     ]
    }
   ],
   "source": [
    "from sympy import oo\n",
    "\n",
    "if roots[0] < min(mm):\n",
    "    if deriv.subs(x,roots[0])>0:\n",
    "        print(F'На интевале ]{-oo} ;  {float(min(mm))}[ функция возрастает')\n",
    "    elif deriv.subs(x,roots[0])>0:\n",
    "        print(F'На интевале ]{-oo} ;  {float(min(mm))}[ функция убываает')\n",
    "\n",
    "if min(mm) < roots[1] < max(mm):    \n",
    "    if deriv.subs(x,roots[1]) > 0:\n",
    "        print(F'На интевале ]{float(min(mm))} ; {float(max(mm))}[ функция возрастает')                 \n",
    "    elif deriv.subs(x,roots[1]) < 0:\n",
    "        print(F'На интевале ]{float(min(mm))} ; {float(max(mm))}[ функция убываает')\n",
    "        \n",
    "if roots[2] > max(mm):\n",
    "    if deriv.subs(x,roots[2]) > 0:\n",
    "        print(F'На интевале ]{float(max(mm))} ; +{oo}[ функция возрастает')\n",
    "    elif deriv.subs(x,roots[2])>0:\n",
    "        print(F'На интевале ]{float(max(mm))} ; +{oo}[ функция убываает')"
   ]
  },
  {
   "cell_type": "code",
   "execution_count": 62,
   "id": "da75caeb",
   "metadata": {},
   "outputs": [
    {
     "name": "stdout",
     "output_type": "stream",
     "text": [
      "f < 0 на интевале ]-oo ;  -8[\n",
      "f > 0 на интевале ]-8 ; -1[\n",
      "f < 0 на интевале ]-1 ; 1[\n",
      "f > 0 на интевале ]1 ; +oo[\n",
      "-7.43823067397364\n"
     ]
    }
   ],
   "source": [
    "from random import*\n",
    "if f.subs(x,roots[0]-1)>0:\n",
    "    print(f'f > 0 на интевале ]{-oo} ;  {roots[0]}[')\n",
    "else:\n",
    "    print(f'f < 0 на интевале ]{-oo} ;  {roots[0]}[')     \n",
    "if f.subs(x,uniform(roots[0],roots[1]))>0:\n",
    "    print(f'f > 0 на интевале ]{roots[0]} ; {roots[1]}[')\n",
    "else:\n",
    "    print(f'f < 0 на интевале ]{roots[0]} ; {roots[1]}[') \n",
    "if f.subs(x,uniform(roots[1],roots[2]))>0:\n",
    "    print(f'f > 0 на интевале ]{roots[1]} ; {roots[2]}[')\n",
    "else:\n",
    "    print(f'f < 0 на интевале ]{roots[1]} ; {roots[2]}[') \n",
    "if f.subs(x,roots[2]+1)>0:\n",
    "    print(f'f > 0 на интевале ]{roots[2]} ; +{oo}[')\n",
    "else:\n",
    "    print(f'f < 0 на интевале ]{roots[2]} ; +{oo}[') "
   ]
  },
  {
   "cell_type": "code",
   "execution_count": 64,
   "id": "aa5a5d26",
   "metadata": {
    "scrolled": false
   },
   "outputs": [
    {
     "data": {
      "image/png": "[encoded data removed]",
      "text/plain": [
       "<Figure size 432x288 with 1 Axes>"
      ]
     },
     "metadata": {
      "needs_background": "light"
     },
     "output_type": "display_data"
    },
    {
     "data": {
      "text/plain": [
       "<sympy.plotting.plot.Plot at 0x14ee4370>"
      ]
     },
     "execution_count": 64,
     "metadata": {},
     "output_type": "execute_result"
    }
   ],
   "source": [
    "from sympy.plotting import*\n",
    "\n",
    "plot(f, (x, -9, 4))"
   ]
  },
  {
   "cell_type": "code",
   "execution_count": null,
   "id": "bcecc8c4",
   "metadata": {},
   "outputs": [],
   "source": []
  }
 ],
 "metadata": {
  "kernelspec": {
   "display_name": "Python 3 (ipykernel)",
   "language": "python",
   "name": "python3"
  },
  "language_info": {
   "codemirror_mode": {
    "name": "ipython",
    "version": 3
   },
   "file_extension": ".py",
   "mimetype": "text/x-python",
   "name": "python",
   "nbconvert_exporter": "python",
   "pygments_lexer": "ipython3",
   "version": "3.8.10"
  }
 },
 "nbformat": 4,
 "nbformat_minor": 5
}
